{
 "cells": [
  {
   "cell_type": "markdown",
   "id": "491217a6",
   "metadata": {},
   "source": [
    "## Importando o pandas e o numpy"
   ]
  },
  {
   "cell_type": "code",
   "execution_count": 1,
   "id": "e1cca8fd",
   "metadata": {},
   "outputs": [],
   "source": [
    "import pandas as pd\n",
    "import numpy as np"
   ]
  },
  {
   "cell_type": "markdown",
   "id": "0a625f57",
   "metadata": {},
   "source": [
    "## Lendo o arquivo"
   ]
  },
  {
   "cell_type": "code",
   "execution_count": 16,
   "id": "5b008b54",
   "metadata": {},
   "outputs": [],
   "source": [
    "df = pd.read_csv('campeonato-brasileiro-full.csv',sep=';')"
   ]
  },
  {
   "cell_type": "markdown",
   "id": "15388a87",
   "metadata": {},
   "source": [
    "#### Visualizando as primeiras linhas do dataframe"
   ]
  },
  {
   "cell_type": "code",
   "execution_count": 3,
   "id": "abf42b88",
   "metadata": {},
   "outputs": [
    {
     "data": {
      "text/html": [
       "<div>\n",
       "<style scoped>\n",
       "    .dataframe tbody tr th:only-of-type {\n",
       "        vertical-align: middle;\n",
       "    }\n",
       "\n",
       "    .dataframe tbody tr th {\n",
       "        vertical-align: top;\n",
       "    }\n",
       "\n",
       "    .dataframe thead th {\n",
       "        text-align: right;\n",
       "    }\n",
       "</style>\n",
       "<table border=\"1\" class=\"dataframe\">\n",
       "  <thead>\n",
       "    <tr style=\"text-align: right;\">\n",
       "      <th></th>\n",
       "      <th>ID</th>\n",
       "      <th>Rodada</th>\n",
       "      <th>Data</th>\n",
       "      <th>Horário</th>\n",
       "      <th>Dia</th>\n",
       "      <th>Mandante</th>\n",
       "      <th>Visitante</th>\n",
       "      <th>Vencedor</th>\n",
       "      <th>Arena</th>\n",
       "      <th>Mandante Placar</th>\n",
       "      <th>Visitante Placar</th>\n",
       "      <th>Estado Mandante</th>\n",
       "      <th>Estado Visitante</th>\n",
       "      <th>Estado Vencedor</th>\n",
       "    </tr>\n",
       "  </thead>\n",
       "  <tbody>\n",
       "    <tr>\n",
       "      <th>0</th>\n",
       "      <td>1</td>\n",
       "      <td>1</td>\n",
       "      <td>2000-07-29</td>\n",
       "      <td>16h00</td>\n",
       "      <td>Sábado</td>\n",
       "      <td>Fluminense</td>\n",
       "      <td>Bahia</td>\n",
       "      <td>Fluminense</td>\n",
       "      <td>Maracanã</td>\n",
       "      <td>2.0</td>\n",
       "      <td>0.0</td>\n",
       "      <td>RJ</td>\n",
       "      <td>BA</td>\n",
       "      <td>RJ</td>\n",
       "    </tr>\n",
       "    <tr>\n",
       "      <th>1</th>\n",
       "      <td>2</td>\n",
       "      <td>1</td>\n",
       "      <td>2000-07-29</td>\n",
       "      <td>16h00</td>\n",
       "      <td>Sábado</td>\n",
       "      <td>Vasco</td>\n",
       "      <td>Sport</td>\n",
       "      <td>Sport</td>\n",
       "      <td>São Januário</td>\n",
       "      <td>0.0</td>\n",
       "      <td>2.0</td>\n",
       "      <td>RJ</td>\n",
       "      <td>PE</td>\n",
       "      <td>PE</td>\n",
       "    </tr>\n",
       "    <tr>\n",
       "      <th>2</th>\n",
       "      <td>3</td>\n",
       "      <td>1</td>\n",
       "      <td>2000-07-29</td>\n",
       "      <td>16h00</td>\n",
       "      <td>Sábado</td>\n",
       "      <td>Vitória</td>\n",
       "      <td>Palmeiras</td>\n",
       "      <td>Vitória</td>\n",
       "      <td>Barradão</td>\n",
       "      <td>4.0</td>\n",
       "      <td>1.0</td>\n",
       "      <td>ES</td>\n",
       "      <td>SP</td>\n",
       "      <td>ES</td>\n",
       "    </tr>\n",
       "    <tr>\n",
       "      <th>3</th>\n",
       "      <td>4</td>\n",
       "      <td>1</td>\n",
       "      <td>2000-07-30</td>\n",
       "      <td>17h00</td>\n",
       "      <td>Domingo</td>\n",
       "      <td>Botafogo-RJ</td>\n",
       "      <td>Atlético-MG</td>\n",
       "      <td>-</td>\n",
       "      <td>Caio Martins</td>\n",
       "      <td>0.0</td>\n",
       "      <td>0.0</td>\n",
       "      <td>RJ</td>\n",
       "      <td>MG</td>\n",
       "      <td>-</td>\n",
       "    </tr>\n",
       "    <tr>\n",
       "      <th>4</th>\n",
       "      <td>5</td>\n",
       "      <td>1</td>\n",
       "      <td>2000-07-30</td>\n",
       "      <td>18h30</td>\n",
       "      <td>Domingo</td>\n",
       "      <td>Juventude</td>\n",
       "      <td>Flamengo</td>\n",
       "      <td>-</td>\n",
       "      <td>Alfredo Jaconi</td>\n",
       "      <td>1.0</td>\n",
       "      <td>1.0</td>\n",
       "      <td>RS</td>\n",
       "      <td>RJ</td>\n",
       "      <td>-</td>\n",
       "    </tr>\n",
       "  </tbody>\n",
       "</table>\n",
       "</div>"
      ],
      "text/plain": [
       "   ID Rodada        Data Horário      Dia     Mandante    Visitante  \\\n",
       "0   1      1  2000-07-29   16h00   Sábado   Fluminense        Bahia   \n",
       "1   2      1  2000-07-29   16h00   Sábado        Vasco        Sport   \n",
       "2   3      1  2000-07-29   16h00   Sábado      Vitória    Palmeiras   \n",
       "3   4      1  2000-07-30   17h00  Domingo  Botafogo-RJ  Atlético-MG   \n",
       "4   5      1  2000-07-30   18h30  Domingo    Juventude     Flamengo   \n",
       "\n",
       "     Vencedor           Arena  Mandante Placar  Visitante Placar  \\\n",
       "0  Fluminense        Maracanã              2.0               0.0   \n",
       "1       Sport    São Januário              0.0               2.0   \n",
       "2     Vitória        Barradão              4.0               1.0   \n",
       "3           -    Caio Martins              0.0               0.0   \n",
       "4           -  Alfredo Jaconi              1.0               1.0   \n",
       "\n",
       "  Estado Mandante Estado Visitante Estado Vencedor  \n",
       "0              RJ               BA              RJ  \n",
       "1              RJ               PE              PE  \n",
       "2              ES               SP              ES  \n",
       "3              RJ               MG               -  \n",
       "4              RS               RJ               -  "
      ]
     },
     "execution_count": 3,
     "metadata": {},
     "output_type": "execute_result"
    }
   ],
   "source": [
    "df.head()"
   ]
  },
  {
   "cell_type": "markdown",
   "id": "4989baa6",
   "metadata": {},
   "source": [
    "## Realizando a limpeza dos dados"
   ]
  },
  {
   "cell_type": "markdown",
   "id": "bad41588",
   "metadata": {},
   "source": [
    "#### Padronizando os horários"
   ]
  },
  {
   "cell_type": "code",
   "execution_count": 4,
   "id": "7a8f88a6",
   "metadata": {},
   "outputs": [
    {
     "data": {
      "text/plain": [
       "16h00    1804\n",
       "20h30     683\n",
       "18h30     643\n",
       "16:00     514\n",
       "18h10     506\n",
       "17h00     351\n",
       "19h30     351\n",
       "19:00     332\n",
       "18h00     306\n",
       "21h00     267\n",
       "21:00     246\n",
       "17:00     194\n",
       "20:00     179\n",
       "19:30     166\n",
       "21h50     144\n",
       "18:30     134\n",
       "22h00     130\n",
       "21h45     119\n",
       "11:00     109\n",
       "20:30     100\n",
       "21:30      85\n",
       "21:45      76\n",
       "18:00      73\n",
       "18h20      59\n",
       "18:15      49\n",
       "21h40      49\n",
       "19:15      45\n",
       "16h        39\n",
       "15h00      37\n",
       "11h00      34\n",
       "19h00      29\n",
       "21:50      27\n",
       "22:00      22\n",
       "16h20      21\n",
       "14h30      17\n",
       "15h45      17\n",
       "18h        14\n",
       "16:30      13\n",
       "17h        13\n",
       "19h10      12\n",
       "16h10      12\n",
       "22:30      10\n",
       "21h30       7\n",
       "15h30       6\n",
       "16:20       5\n",
       "17:30       4\n",
       "20h00       4\n",
       "20:15       3\n",
       "22h         3\n",
       "16:15       3\n",
       "22:50       3\n",
       "19:45       2\n",
       "16h30       2\n",
       "21:46       1\n",
       "15:00       1\n",
       "21h10       1\n",
       "22h30       1\n",
       "09h00       1\n",
       "18:45       1\n",
       "Name: Horário, dtype: int64"
      ]
     },
     "execution_count": 4,
     "metadata": {},
     "output_type": "execute_result"
    }
   ],
   "source": [
    "df['Horário'].value_counts()"
   ]
  },
  {
   "cell_type": "code",
   "execution_count": 17,
   "id": "77c9f8f7",
   "metadata": {},
   "outputs": [],
   "source": [
    "df['Horário'] = df['Horário'].str.replace('h',':')\n",
    "df['H_len'] = df['Horário'].str.len()\n",
    "df.loc[df['H_len'] == 3, 'Horário'] = df['Horário'] + '00'"
   ]
  },
  {
   "cell_type": "code",
   "execution_count": 8,
   "id": "c0c0d0af",
   "metadata": {},
   "outputs": [
    {
     "data": {
      "text/plain": [
       "16:00    2357\n",
       "20:30     783\n",
       "18:30     777\n",
       "17:00     558\n",
       "19:30     517\n",
       "21:00     513\n",
       "18:10     506\n",
       "18:00     393\n",
       "19:00     361\n",
       "21:45     195\n",
       "20:00     183\n",
       "21:50     171\n",
       "22:00     155\n",
       "11:00     143\n",
       "21:30      92\n",
       "18:20      59\n",
       "18:15      49\n",
       "21:40      49\n",
       "19:15      45\n",
       "15:00      38\n",
       "16:20      26\n",
       "14:30      17\n",
       "15:45      17\n",
       "16:30      15\n",
       "16:10      12\n",
       "19:10      12\n",
       "22:30      11\n",
       "15:30       6\n",
       "17:30       4\n",
       "22:50       3\n",
       "20:15       3\n",
       "16:15       3\n",
       "19:45       2\n",
       "21:10       1\n",
       "21:46       1\n",
       "09:00       1\n",
       "18:45       1\n",
       "Name: Horário, dtype: int64"
      ]
     },
     "execution_count": 8,
     "metadata": {},
     "output_type": "execute_result"
    }
   ],
   "source": [
    "df['Horário'].value_counts()"
   ]
  },
  {
   "cell_type": "markdown",
   "id": "0e77d15d",
   "metadata": {},
   "source": [
    "#### Padronizando dia da semana"
   ]
  },
  {
   "cell_type": "code",
   "execution_count": 9,
   "id": "10c5e3b1",
   "metadata": {},
   "outputs": [
    {
     "data": {
      "text/plain": [
       "Domingo          3859\n",
       "Sábado           1925\n",
       "Quarta-feira     1559\n",
       "Quinta-feira      657\n",
       "Segunda-feira     108\n",
       "Quarta-Feira      107\n",
       "Terça-feira        85\n",
       "Quinta-Feira       54\n",
       "Segunda-Feira      26\n",
       "Sexta-feira        24\n",
       "Sabado             22\n",
       "Terça-Feira         5\n",
       "Sexta-Feira         5\n",
       "Name: Dia, dtype: int64"
      ]
     },
     "execution_count": 9,
     "metadata": {},
     "output_type": "execute_result"
    }
   ],
   "source": [
    "df['Dia'].value_counts()"
   ]
  },
  {
   "cell_type": "code",
   "execution_count": 18,
   "id": "da8a922f",
   "metadata": {},
   "outputs": [],
   "source": [
    "df[df['Dia'] == 'Sabado'] = 'Sábado'\n",
    "df[df['Dia'] == 'Segunda-feira'] = 'Segunda-Feira'\n",
    "df[df['Dia'] == 'Terça-feira'] = 'Terça-Feira'\n",
    "df[df['Dia'] == 'Quarta-feira'] = 'Quarta-Feira'\n",
    "df[df['Dia'] == 'Quinta-feira'] = 'Quinta-Feira'\n",
    "df[df['Dia'] == 'Sexta-feira'] = 'Sexta-Feira'"
   ]
  },
  {
   "cell_type": "code",
   "execution_count": 11,
   "id": "423ed8b7",
   "metadata": {},
   "outputs": [
    {
     "data": {
      "text/plain": [
       "Domingo          3859\n",
       "Sábado           1947\n",
       "Quarta-Feira     1666\n",
       "Quinta-Feira      711\n",
       "Segunda-Feira     134\n",
       "Terça-Feira        90\n",
       "Sexta-Feira        29\n",
       "Name: Dia, dtype: int64"
      ]
     },
     "execution_count": 11,
     "metadata": {},
     "output_type": "execute_result"
    }
   ],
   "source": [
    "df['Dia'].value_counts()"
   ]
  },
  {
   "cell_type": "markdown",
   "id": "457781f6",
   "metadata": {},
   "source": [
    "#### Padronizando o nome dos times"
   ]
  },
  {
   "cell_type": "code",
   "execution_count": 12,
   "id": "219dc2b3",
   "metadata": {},
   "outputs": [
    {
     "data": {
      "text/plain": [
       "Quarta-Feira    1559\n",
       "Quinta-Feira     657\n",
       "Santos           288\n",
       "Athlético-PR     282\n",
       "Fluminense       279\n",
       "                ... \n",
       "SPORT              2\n",
       "PALMEIRAS          2\n",
       "PONTE PRETA        1\n",
       "BAHIA              1\n",
       "FLAMENGO           1\n",
       "Name: Mandante, Length: 83, dtype: int64"
      ]
     },
     "execution_count": 12,
     "metadata": {},
     "output_type": "execute_result"
    }
   ],
   "source": [
    "df['Mandante'].value_counts()"
   ]
  },
  {
   "cell_type": "code",
   "execution_count": 19,
   "id": "615a83c6",
   "metadata": {},
   "outputs": [],
   "source": [
    "# removendo linhas com dias da semana\n",
    "dias_semana = ['Domingo', 'Segunda-Feira', 'Terça-Feira', 'Quarta-Feira', 'Quinta-Feira', 'Sexta-Feira', 'Sábado']\n",
    "for dia in dias_semana:\n",
    "    df = df[df['Mandante'] != dia]\n",
    "    df = df[df['Visitante'] != dia]\n",
    "    df = df[df['Vencedor'] != dia]"
   ]
  },
  {
   "cell_type": "code",
   "execution_count": 20,
   "id": "1d457424",
   "metadata": {},
   "outputs": [],
   "source": [
    "# Removendo acentuação\n",
    "df['Mandante'] = df['Mandante'].str.normalize('NFKD').str.encode('ascii', errors='ignore').str.decode('utf-8')\n",
    "df['Visitante'] = df['Visitante'].str.normalize('NFKD').str.encode('ascii', errors='ignore').str.decode('utf-8')\n",
    "df['Vencedor'] = df['Vencedor'].str.normalize('NFKD').str.encode('ascii', errors='ignore').str.decode('utf-8')"
   ]
  },
  {
   "cell_type": "code",
   "execution_count": 21,
   "id": "78eaa954",
   "metadata": {},
   "outputs": [],
   "source": [
    "# colocando o texto em caixa alta\n",
    "df['Mandante'] = df['Mandante'].str.upper()\n",
    "df['Visitante'] = df['Visitante'].str.upper()\n",
    "df['Vencedor'] = df['Vencedor'].str.upper()"
   ]
  },
  {
   "cell_type": "code",
   "execution_count": 22,
   "id": "744d71ec",
   "metadata": {},
   "outputs": [
    {
     "data": {
      "text/plain": [
       "SANTOS             296\n",
       "FLUMINENSE         288\n",
       "ATHLETICO-PR       286\n",
       "INTERNACIONAL      282\n",
       "FLAMENGO           281\n",
       "CORINTHIANS        279\n",
       "SAO PAULO          277\n",
       "CRUZEIRO           269\n",
       "ATLETICO-MG        267\n",
       "GREMIO             267\n",
       "PALMEIRAS          239\n",
       "BOTAFOGO-RJ        235\n",
       "VASCO              230\n",
       "GOIAS              211\n",
       "CORITIBA           201\n",
       "VITORIA            168\n",
       "SPORT              165\n",
       "BAHIA              158\n",
       "FIGUEIRENSE        152\n",
       "PONTE PRETA        151\n",
       "JUVENTUDE          108\n",
       "PARANA             103\n",
       "FORTALEZA           88\n",
       "CHAPECOENSE         87\n",
       "AVAI                86\n",
       "ATLETICO-GO         83\n",
       "GUARANI             78\n",
       "CEARA               77\n",
       "NAUTICO             71\n",
       "SAO CAETANO         71\n",
       "CRICIUMA            64\n",
       "AMERICA-MG          60\n",
       "PORTUGUESA          59\n",
       "PAYSANDU            45\n",
       "SANTA CRUZ          35\n",
       "SEXTA-FEIRA         24\n",
       "BRAGANTINO          24\n",
       "AMERICA-RN          18\n",
       "GAMA                18\n",
       "IPATINGA            17\n",
       "BRASILIENSE         15\n",
       "SANTO ANDRE         14\n",
       "BARUERI             14\n",
       "JOINVILLE           13\n",
       "GREMIO PRUDENTE     10\n",
       "CSA                 10\n",
       "BOTAFOGO-SP          9\n",
       "CUIABA               6\n",
       "Name: Mandante, dtype: int64"
      ]
     },
     "execution_count": 22,
     "metadata": {},
     "output_type": "execute_result"
    }
   ],
   "source": [
    "df['Mandante'].value_counts()"
   ]
  },
  {
   "cell_type": "code",
   "execution_count": 24,
   "id": "c9b30676",
   "metadata": {},
   "outputs": [
    {
     "data": {
      "text/plain": [
       "{'Maracanã': 457,\n",
       " 'Mineirão': 341,\n",
       " 'Morumbi': 286,\n",
       " 'Beira Rio': 260,\n",
       " 'Vila Belmiro': 257,\n",
       " 'Serra Dourada': 236,\n",
       " 'Pacaembu': 227,\n",
       " 'Arena da Baixada': 213,\n",
       " 'Couto Pereira': 210,\n",
       " 'São Januário': 187,\n",
       " 'Independência': 177,\n",
       " 'Olímpico Monumental': 166,\n",
       " 'Engenhão': 164,\n",
       " 'Barradão': 158,\n",
       " 'Ilha do Retiro': 150,\n",
       " 'Orlando Scarpelli': 150,\n",
       " 'Moisés Lucarelli': 149,\n",
       " 'Castelão': 134,\n",
       " 'Arena do Grêmio': 112,\n",
       " 'Alfredo Jaconi': 109,\n",
       " 'Fonte Nova': 104,\n",
       " 'Arena Condá': 87,\n",
       " 'Ressacada': 86,\n",
       " 'Brinco de Ouro': 78,\n",
       " 'Arena Corinthians': 76,\n",
       " 'Anacleto Campanella': 70,\n",
       " 'Raulino de Oliveira': 68,\n",
       " 'Canindé': 63,\n",
       " 'Heriberto Hulse': 63,\n",
       " 'Parque Antártica': 61,\n",
       " 'Allianz Parque': 56,\n",
       " 'Aflitos': 55,\n",
       " 'Pituaçu': 50,\n",
       " 'Arena do Jacaré': 50,\n",
       " 'Pinheirão': 47,\n",
       " 'Mané Garrincha': 44,\n",
       " 'Palestra Itália': 44,\n",
       " 'Mangueirão': 44,\n",
       " 'Kyocera Arena': 43,\n",
       " 'Luso Brasileiro': 41,\n",
       " 'Arruda': 37,\n",
       " 'Durival de Brito': 35,\n",
       " 'Presidente Vargas': 32,\n",
       " 'Arena Barueri': 29,\n",
       " 'Arena Pernambuco': 28,\n",
       " 'Ipatingão': 28,\n",
       " 'Sexta-Feira': 24,\n",
       " 'Nabi Abi Chedid': 24,\n",
       " 'Neo Química Arena': 24,\n",
       " 'Nilton Santos (Engenhão)': 22,\n",
       " 'Serrinha': 19,\n",
       " 'Vila Capanema': 18,\n",
       " 'Machadão': 18,\n",
       " 'Arena Joinville': 16,\n",
       " 'Prudentão': 16,\n",
       " 'Centenário': 14,\n",
       " 'Caio Martins': 14,\n",
       " 'Antônio Accioly': 14,\n",
       " 'Bruno José Daniel': 14,\n",
       " 'Boca do Jacaré': 13,\n",
       " 'Santa Cruz': 12,\n",
       " 'Parque do Sabiá': 10,\n",
       " 'Itaipava Arena Fonte Nova': 10,\n",
       " 'Bezerrão': 10,\n",
       " 'Rei Pelé': 10,\n",
       " 'Arena Pantanal': 9,\n",
       " 'Willie Davids': 8,\n",
       " 'Fonte Luminosa': 7,\n",
       " 'Joaquim Américo': 7,\n",
       " 'Cláudio Moacyr': 6,\n",
       " 'Beira-Rio': 6,\n",
       " 'Edson Passos': 6,\n",
       " 'Giulite Coutinho': 5,\n",
       " 'Benedito Teixeira': 5,\n",
       " 'Estádio do Vale': 5,\n",
       " 'Kléber Andrade': 5,\n",
       " 'Moacyrzão': 5,\n",
       " 'Estádio do Café': 4,\n",
       " 'Serejão': 4,\n",
       " 'Mário Helênio': 4,\n",
       " 'Teixeirão': 4,\n",
       " 'Wilson de Barros': 4,\n",
       " 'Arena da Amazônia': 4,\n",
       " 'Colosso da Lagoa': 3,\n",
       " 'Pq. Antarctica': 3,\n",
       " 'Mj José Levi Sobrinho': 3,\n",
       " 'Jóia da Princesa': 3,\n",
       " 'Juiz de Fora': 2,\n",
       " 'Eduardo José Farah': 2,\n",
       " 'Juscelino Kubitscheck': 2,\n",
       " 'Morenão': 2,\n",
       " 'Bento Freitas': 2,\n",
       " 'Luiz Lacerda': 2,\n",
       " 'A Campanella': 2,\n",
       " 'Melão': 2,\n",
       " 'Novelli Júnior': 2,\n",
       " '1º de Maio': 1,\n",
       " 'Romildo Ferreira': 1,\n",
       " 'Arena das Dunas': 1,\n",
       " 'Municipal Juiz de Fora': 1,\n",
       " 'Jaime Cintra': 1,\n",
       " 'Estrela Solitária': 1,\n",
       " 'Godofredo Cruz': 1,\n",
       " 'Pedro Pedrossian': 1,\n",
       " 'Curuzu': 1,\n",
       " 'Papa J.Paulo II': 1,\n",
       " 'Engenheiro Araripe': 1,\n",
       " 'Batistão': 1,\n",
       " 'Plácido Castelo': 1}"
      ]
     },
     "execution_count": 24,
     "metadata": {},
     "output_type": "execute_result"
    }
   ],
   "source": [
    "df['Arena'].value_counts().to_dict()"
   ]
  },
  {
   "cell_type": "markdown",
   "id": "0e0a43e5",
   "metadata": {},
   "source": [
    "### Padronizando o nome dos estádios"
   ]
  },
  {
   "cell_type": "code",
   "execution_count": 29,
   "id": "793d087f",
   "metadata": {},
   "outputs": [],
   "source": [
    "# removendo linhas com dias da semana\n",
    "dias_semana = ['Domingo', 'Segunda-Feira', 'Terça-Feira', 'Quarta-Feira', 'Quinta-Feira', 'Sexta-Feira', 'Sábado']\n",
    "for dia in dias_semana:\n",
    "    df = df[df['Arena'] != dia]"
   ]
  },
  {
   "cell_type": "code",
   "execution_count": 30,
   "id": "1895b27f",
   "metadata": {},
   "outputs": [
    {
     "data": {
      "text/plain": [
       "{'Maracanã': 457,\n",
       " 'Mineirão': 341,\n",
       " 'Morumbi': 286,\n",
       " 'Beira Rio': 260,\n",
       " 'Vila Belmiro': 257,\n",
       " 'Serra Dourada': 236,\n",
       " 'Pacaembu': 227,\n",
       " 'Arena da Baixada': 213,\n",
       " 'Couto Pereira': 210,\n",
       " 'São Januário': 187,\n",
       " 'Independência': 177,\n",
       " 'Olímpico Monumental': 166,\n",
       " 'Engenhão': 164,\n",
       " 'Barradão': 158,\n",
       " 'Ilha do Retiro': 150,\n",
       " 'Orlando Scarpelli': 150,\n",
       " 'Moisés Lucarelli': 149,\n",
       " 'Castelão': 134,\n",
       " 'Arena do Grêmio': 112,\n",
       " 'Alfredo Jaconi': 109,\n",
       " 'Fonte Nova': 104,\n",
       " 'Arena Condá': 87,\n",
       " 'Ressacada': 86,\n",
       " 'Brinco de Ouro': 78,\n",
       " 'Arena Corinthians': 76,\n",
       " 'Anacleto Campanella': 70,\n",
       " 'Raulino de Oliveira': 68,\n",
       " 'Canindé': 63,\n",
       " 'Heriberto Hulse': 63,\n",
       " 'Parque Antártica': 61,\n",
       " 'Allianz Parque': 56,\n",
       " 'Aflitos': 55,\n",
       " 'Arena do Jacaré': 50,\n",
       " 'Pituaçu': 50,\n",
       " 'Pinheirão': 47,\n",
       " 'Mané Garrincha': 44,\n",
       " 'Palestra Itália': 44,\n",
       " 'Mangueirão': 44,\n",
       " 'Kyocera Arena': 43,\n",
       " 'Luso Brasileiro': 41,\n",
       " 'Arruda': 37,\n",
       " 'Durival de Brito': 35,\n",
       " 'Presidente Vargas': 32,\n",
       " 'Arena Barueri': 29,\n",
       " 'Arena Pernambuco': 28,\n",
       " 'Ipatingão': 28,\n",
       " 'Neo Química Arena': 24,\n",
       " 'Nabi Abi Chedid': 24,\n",
       " 'Nilton Santos (Engenhão)': 22,\n",
       " 'Serrinha': 19,\n",
       " 'Vila Capanema': 18,\n",
       " 'Machadão': 18,\n",
       " 'Arena Joinville': 16,\n",
       " 'Prudentão': 16,\n",
       " 'Bruno José Daniel': 14,\n",
       " 'Antônio Accioly': 14,\n",
       " 'Caio Martins': 14,\n",
       " 'Centenário': 14,\n",
       " 'Boca do Jacaré': 13,\n",
       " 'Santa Cruz': 12,\n",
       " 'Itaipava Arena Fonte Nova': 10,\n",
       " 'Bezerrão': 10,\n",
       " 'Rei Pelé': 10,\n",
       " 'Parque do Sabiá': 10,\n",
       " 'Arena Pantanal': 9,\n",
       " 'Willie Davids': 8,\n",
       " 'Joaquim Américo': 7,\n",
       " 'Fonte Luminosa': 7,\n",
       " 'Beira-Rio': 6,\n",
       " 'Edson Passos': 6,\n",
       " 'Cláudio Moacyr': 6,\n",
       " 'Estádio do Vale': 5,\n",
       " 'Giulite Coutinho': 5,\n",
       " 'Benedito Teixeira': 5,\n",
       " 'Moacyrzão': 5,\n",
       " 'Kléber Andrade': 5,\n",
       " 'Teixeirão': 4,\n",
       " 'Wilson de Barros': 4,\n",
       " 'Arena da Amazônia': 4,\n",
       " 'Estádio do Café': 4,\n",
       " 'Serejão': 4,\n",
       " 'Mário Helênio': 4,\n",
       " 'Mj José Levi Sobrinho': 3,\n",
       " 'Pq. Antarctica': 3,\n",
       " 'Colosso da Lagoa': 3,\n",
       " 'Jóia da Princesa': 3,\n",
       " 'Melão': 2,\n",
       " 'A Campanella': 2,\n",
       " 'Bento Freitas': 2,\n",
       " 'Novelli Júnior': 2,\n",
       " 'Morenão': 2,\n",
       " 'Luiz Lacerda': 2,\n",
       " 'Eduardo José Farah': 2,\n",
       " 'Juscelino Kubitscheck': 2,\n",
       " 'Juiz de Fora': 2,\n",
       " 'Estrela Solitária': 1,\n",
       " 'Curuzu': 1,\n",
       " 'Pedro Pedrossian': 1,\n",
       " 'Papa J.Paulo II': 1,\n",
       " 'Batistão': 1,\n",
       " 'Godofredo Cruz': 1,\n",
       " 'Plácido Castelo': 1,\n",
       " 'Arena das Dunas': 1,\n",
       " 'Engenheiro Araripe': 1,\n",
       " '1º de Maio': 1,\n",
       " 'Romildo Ferreira': 1,\n",
       " 'Jaime Cintra': 1,\n",
       " 'Municipal Juiz de Fora': 1}"
      ]
     },
     "execution_count": 30,
     "metadata": {},
     "output_type": "execute_result"
    }
   ],
   "source": [
    "df['Arena'].value_counts().to_dict()"
   ]
  }
 ],
 "metadata": {
  "kernelspec": {
   "display_name": "Python 3 (ipykernel)",
   "language": "python",
   "name": "python3"
  },
  "language_info": {
   "codemirror_mode": {
    "name": "ipython",
    "version": 3
   },
   "file_extension": ".py",
   "mimetype": "text/x-python",
   "name": "python",
   "nbconvert_exporter": "python",
   "pygments_lexer": "ipython3",
   "version": "3.8.10"
  }
 },
 "nbformat": 4,
 "nbformat_minor": 5
}
